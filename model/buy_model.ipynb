{
 "cells": [
  {
   "cell_type": "code",
   "execution_count": 1,
   "metadata": {},
   "outputs": [
    {
     "name": "stdout",
     "output_type": "stream",
     "text": [
      "Requirement already satisfied: scikit-learn in /Library/Frameworks/Python.framework/Versions/3.8/lib/python3.8/site-packages (1.1.2)\n",
      "Requirement already satisfied: numpy>=1.17.3 in /Library/Frameworks/Python.framework/Versions/3.8/lib/python3.8/site-packages (from scikit-learn) (1.23.3)\n",
      "Requirement already satisfied: scipy>=1.3.2 in /Library/Frameworks/Python.framework/Versions/3.8/lib/python3.8/site-packages (from scikit-learn) (1.9.1)\n",
      "Requirement already satisfied: threadpoolctl>=2.0.0 in /Library/Frameworks/Python.framework/Versions/3.8/lib/python3.8/site-packages (from scikit-learn) (3.1.0)\n",
      "Requirement already satisfied: joblib>=1.0.0 in /Library/Frameworks/Python.framework/Versions/3.8/lib/python3.8/site-packages (from scikit-learn) (1.2.0)\n"
     ]
    }
   ],
   "source": [
    "!pip install -U scikit-learn"
   ]
  },
  {
   "cell_type": "code",
   "execution_count": 2,
   "metadata": {},
   "outputs": [],
   "source": [
    "\n",
    "import pandas as pd\n",
    "import numpy as np\n",
    "import matplotlib.pyplot as plt\n",
    "from sklearn.ensemble import RandomForestClassifier\n",
    "from sklearn.metrics import accuracy_score\n",
    "from sklearn.model_selection import train_test_split"
   ]
  },
  {
   "cell_type": "code",
   "execution_count": 3,
   "metadata": {},
   "outputs": [
    {
     "data": {
      "text/html": [
       "<div>\n",
       "<style scoped>\n",
       "    .dataframe tbody tr th:only-of-type {\n",
       "        vertical-align: middle;\n",
       "    }\n",
       "\n",
       "    .dataframe tbody tr th {\n",
       "        vertical-align: top;\n",
       "    }\n",
       "\n",
       "    .dataframe thead th {\n",
       "        text-align: right;\n",
       "    }\n",
       "</style>\n",
       "<table border=\"1\" class=\"dataframe\">\n",
       "  <thead>\n",
       "    <tr style=\"text-align: right;\">\n",
       "      <th></th>\n",
       "      <th>time</th>\n",
       "      <th>open</th>\n",
       "      <th>high</th>\n",
       "      <th>low</th>\n",
       "      <th>close</th>\n",
       "      <th>volume</th>\n",
       "      <th>anser</th>\n",
       "      <th>high-low</th>\n",
       "      <th>rsi</th>\n",
       "    </tr>\n",
       "  </thead>\n",
       "  <tbody>\n",
       "    <tr>\n",
       "      <th>0</th>\n",
       "      <td>2020-01-31 09:05:00</td>\n",
       "      <td>0.05467</td>\n",
       "      <td>0.05539</td>\n",
       "      <td>0.05466</td>\n",
       "      <td>0.05518</td>\n",
       "      <td>1598025.0</td>\n",
       "      <td>1</td>\n",
       "      <td>0.00073</td>\n",
       "      <td>5.114337</td>\n",
       "    </tr>\n",
       "    <tr>\n",
       "      <th>1</th>\n",
       "      <td>2020-01-31 09:10:00</td>\n",
       "      <td>0.05519</td>\n",
       "      <td>0.05532</td>\n",
       "      <td>0.05484</td>\n",
       "      <td>0.05525</td>\n",
       "      <td>1468269.0</td>\n",
       "      <td>-1</td>\n",
       "      <td>0.00048</td>\n",
       "      <td>5.114337</td>\n",
       "    </tr>\n",
       "    <tr>\n",
       "      <th>2</th>\n",
       "      <td>2020-01-31 09:15:00</td>\n",
       "      <td>0.05524</td>\n",
       "      <td>0.05541</td>\n",
       "      <td>0.05503</td>\n",
       "      <td>0.05535</td>\n",
       "      <td>2008958.0</td>\n",
       "      <td>-1</td>\n",
       "      <td>0.00038</td>\n",
       "      <td>5.111636</td>\n",
       "    </tr>\n",
       "    <tr>\n",
       "      <th>3</th>\n",
       "      <td>2020-01-31 09:20:00</td>\n",
       "      <td>0.05532</td>\n",
       "      <td>0.05559</td>\n",
       "      <td>0.05506</td>\n",
       "      <td>0.05513</td>\n",
       "      <td>2338759.0</td>\n",
       "      <td>-1</td>\n",
       "      <td>0.00053</td>\n",
       "      <td>5.119739</td>\n",
       "    </tr>\n",
       "    <tr>\n",
       "      <th>4</th>\n",
       "      <td>2020-01-31 09:25:00</td>\n",
       "      <td>0.05514</td>\n",
       "      <td>0.05518</td>\n",
       "      <td>0.05465</td>\n",
       "      <td>0.05481</td>\n",
       "      <td>1893117.0</td>\n",
       "      <td>-1</td>\n",
       "      <td>0.00053</td>\n",
       "      <td>5.108035</td>\n",
       "    </tr>\n",
       "    <tr>\n",
       "      <th>...</th>\n",
       "      <td>...</td>\n",
       "      <td>...</td>\n",
       "      <td>...</td>\n",
       "      <td>...</td>\n",
       "      <td>...</td>\n",
       "      <td>...</td>\n",
       "      <td>...</td>\n",
       "      <td>...</td>\n",
       "      <td>...</td>\n",
       "    </tr>\n",
       "    <tr>\n",
       "      <th>201770</th>\n",
       "      <td>2022-01-01 00:10:00</td>\n",
       "      <td>1.31530</td>\n",
       "      <td>1.31690</td>\n",
       "      <td>1.31240</td>\n",
       "      <td>1.31680</td>\n",
       "      <td>1398981.0</td>\n",
       "      <td>0</td>\n",
       "      <td>0.00450</td>\n",
       "      <td>56.753016</td>\n",
       "    </tr>\n",
       "    <tr>\n",
       "      <th>201771</th>\n",
       "      <td>2022-01-01 00:15:00</td>\n",
       "      <td>1.31670</td>\n",
       "      <td>1.31740</td>\n",
       "      <td>1.31440</td>\n",
       "      <td>1.31600</td>\n",
       "      <td>630361.0</td>\n",
       "      <td>0</td>\n",
       "      <td>0.00300</td>\n",
       "      <td>56.753016</td>\n",
       "    </tr>\n",
       "    <tr>\n",
       "      <th>201772</th>\n",
       "      <td>2022-01-01 00:20:00</td>\n",
       "      <td>1.31600</td>\n",
       "      <td>1.32130</td>\n",
       "      <td>1.31480</td>\n",
       "      <td>1.32130</td>\n",
       "      <td>1097097.0</td>\n",
       "      <td>0</td>\n",
       "      <td>0.00650</td>\n",
       "      <td>56.760496</td>\n",
       "    </tr>\n",
       "    <tr>\n",
       "      <th>201773</th>\n",
       "      <td>2022-01-01 00:25:00</td>\n",
       "      <td>1.32130</td>\n",
       "      <td>1.32160</td>\n",
       "      <td>1.31830</td>\n",
       "      <td>1.31930</td>\n",
       "      <td>815234.0</td>\n",
       "      <td>0</td>\n",
       "      <td>0.00330</td>\n",
       "      <td>56.732433</td>\n",
       "    </tr>\n",
       "    <tr>\n",
       "      <th>201774</th>\n",
       "      <td>2022-01-01 00:30:00</td>\n",
       "      <td>1.31920</td>\n",
       "      <td>1.32140</td>\n",
       "      <td>1.31750</td>\n",
       "      <td>1.32120</td>\n",
       "      <td>615846.0</td>\n",
       "      <td>0</td>\n",
       "      <td>0.00390</td>\n",
       "      <td>56.726816</td>\n",
       "    </tr>\n",
       "  </tbody>\n",
       "</table>\n",
       "<p>201775 rows × 9 columns</p>\n",
       "</div>"
      ],
      "text/plain": [
       "                       time     open     high      low    close     volume  \\\n",
       "0       2020-01-31 09:05:00  0.05467  0.05539  0.05466  0.05518  1598025.0   \n",
       "1       2020-01-31 09:10:00  0.05519  0.05532  0.05484  0.05525  1468269.0   \n",
       "2       2020-01-31 09:15:00  0.05524  0.05541  0.05503  0.05535  2008958.0   \n",
       "3       2020-01-31 09:20:00  0.05532  0.05559  0.05506  0.05513  2338759.0   \n",
       "4       2020-01-31 09:25:00  0.05514  0.05518  0.05465  0.05481  1893117.0   \n",
       "...                     ...      ...      ...      ...      ...        ...   \n",
       "201770  2022-01-01 00:10:00  1.31530  1.31690  1.31240  1.31680  1398981.0   \n",
       "201771  2022-01-01 00:15:00  1.31670  1.31740  1.31440  1.31600   630361.0   \n",
       "201772  2022-01-01 00:20:00  1.31600  1.32130  1.31480  1.32130  1097097.0   \n",
       "201773  2022-01-01 00:25:00  1.32130  1.32160  1.31830  1.31930   815234.0   \n",
       "201774  2022-01-01 00:30:00  1.31920  1.32140  1.31750  1.32120   615846.0   \n",
       "\n",
       "        anser  high-low        rsi  \n",
       "0           1   0.00073   5.114337  \n",
       "1          -1   0.00048   5.114337  \n",
       "2          -1   0.00038   5.111636  \n",
       "3          -1   0.00053   5.119739  \n",
       "4          -1   0.00053   5.108035  \n",
       "...       ...       ...        ...  \n",
       "201770      0   0.00450  56.753016  \n",
       "201771      0   0.00300  56.753016  \n",
       "201772      0   0.00650  56.760496  \n",
       "201773      0   0.00330  56.732433  \n",
       "201774      0   0.00390  56.726816  \n",
       "\n",
       "[201775 rows x 9 columns]"
      ]
     },
     "execution_count": 3,
     "metadata": {},
     "output_type": "execute_result"
    }
   ],
   "source": [
    "# Read data\n",
    "df = pd.read_csv('../data/ADAUSDT_marked.csv')\n",
    "df"
   ]
  },
  {
   "cell_type": "code",
   "execution_count": 4,
   "metadata": {},
   "outputs": [
    {
     "name": "stdout",
     "output_type": "stream",
     "text": [
      " 0    100647\n",
      " 1     54592\n",
      "-1     46536\n",
      "Name: anser, dtype: int64\n"
     ]
    }
   ],
   "source": [
    "print(df['anser'].value_counts())"
   ]
  },
  {
   "cell_type": "code",
   "execution_count": 5,
   "metadata": {},
   "outputs": [
    {
     "name": "stdout",
     "output_type": "stream",
     "text": [
      "(201775, 7)\n",
      "(201775,)\n"
     ]
    }
   ],
   "source": [
    "X = df.drop(['time','anser'], axis=1)\n",
    "y = df['anser']\n",
    "\n",
    "#print shape of X and y\n",
    "print(X.shape)\n",
    "print(y.shape)"
   ]
  },
  {
   "cell_type": "code",
   "execution_count": 6,
   "metadata": {},
   "outputs": [],
   "source": [
    "\n",
    "X_train, X_test, y_train, y_test = train_test_split(X, y, test_size=0.25, random_state=1)\n"
   ]
  },
  {
   "cell_type": "code",
   "execution_count": 7,
   "metadata": {},
   "outputs": [],
   "source": [
    "\n",
    "\n",
    "# Create a Gaussian Classifier\n",
    "clf=RandomForestClassifier(n_estimators=100)\n",
    "\n",
    "\n"
   ]
  },
  {
   "cell_type": "code",
   "execution_count": 8,
   "metadata": {},
   "outputs": [
    {
     "data": {
      "text/html": [
       "<style>#sk-container-id-1 {color: black;background-color: white;}#sk-container-id-1 pre{padding: 0;}#sk-container-id-1 div.sk-toggleable {background-color: white;}#sk-container-id-1 label.sk-toggleable__label {cursor: pointer;display: block;width: 100%;margin-bottom: 0;padding: 0.3em;box-sizing: border-box;text-align: center;}#sk-container-id-1 label.sk-toggleable__label-arrow:before {content: \"▸\";float: left;margin-right: 0.25em;color: #696969;}#sk-container-id-1 label.sk-toggleable__label-arrow:hover:before {color: black;}#sk-container-id-1 div.sk-estimator:hover label.sk-toggleable__label-arrow:before {color: black;}#sk-container-id-1 div.sk-toggleable__content {max-height: 0;max-width: 0;overflow: hidden;text-align: left;background-color: #f0f8ff;}#sk-container-id-1 div.sk-toggleable__content pre {margin: 0.2em;color: black;border-radius: 0.25em;background-color: #f0f8ff;}#sk-container-id-1 input.sk-toggleable__control:checked~div.sk-toggleable__content {max-height: 200px;max-width: 100%;overflow: auto;}#sk-container-id-1 input.sk-toggleable__control:checked~label.sk-toggleable__label-arrow:before {content: \"▾\";}#sk-container-id-1 div.sk-estimator input.sk-toggleable__control:checked~label.sk-toggleable__label {background-color: #d4ebff;}#sk-container-id-1 div.sk-label input.sk-toggleable__control:checked~label.sk-toggleable__label {background-color: #d4ebff;}#sk-container-id-1 input.sk-hidden--visually {border: 0;clip: rect(1px 1px 1px 1px);clip: rect(1px, 1px, 1px, 1px);height: 1px;margin: -1px;overflow: hidden;padding: 0;position: absolute;width: 1px;}#sk-container-id-1 div.sk-estimator {font-family: monospace;background-color: #f0f8ff;border: 1px dotted black;border-radius: 0.25em;box-sizing: border-box;margin-bottom: 0.5em;}#sk-container-id-1 div.sk-estimator:hover {background-color: #d4ebff;}#sk-container-id-1 div.sk-parallel-item::after {content: \"\";width: 100%;border-bottom: 1px solid gray;flex-grow: 1;}#sk-container-id-1 div.sk-label:hover label.sk-toggleable__label {background-color: #d4ebff;}#sk-container-id-1 div.sk-serial::before {content: \"\";position: absolute;border-left: 1px solid gray;box-sizing: border-box;top: 0;bottom: 0;left: 50%;z-index: 0;}#sk-container-id-1 div.sk-serial {display: flex;flex-direction: column;align-items: center;background-color: white;padding-right: 0.2em;padding-left: 0.2em;position: relative;}#sk-container-id-1 div.sk-item {position: relative;z-index: 1;}#sk-container-id-1 div.sk-parallel {display: flex;align-items: stretch;justify-content: center;background-color: white;position: relative;}#sk-container-id-1 div.sk-item::before, #sk-container-id-1 div.sk-parallel-item::before {content: \"\";position: absolute;border-left: 1px solid gray;box-sizing: border-box;top: 0;bottom: 0;left: 50%;z-index: -1;}#sk-container-id-1 div.sk-parallel-item {display: flex;flex-direction: column;z-index: 1;position: relative;background-color: white;}#sk-container-id-1 div.sk-parallel-item:first-child::after {align-self: flex-end;width: 50%;}#sk-container-id-1 div.sk-parallel-item:last-child::after {align-self: flex-start;width: 50%;}#sk-container-id-1 div.sk-parallel-item:only-child::after {width: 0;}#sk-container-id-1 div.sk-dashed-wrapped {border: 1px dashed gray;margin: 0 0.4em 0.5em 0.4em;box-sizing: border-box;padding-bottom: 0.4em;background-color: white;}#sk-container-id-1 div.sk-label label {font-family: monospace;font-weight: bold;display: inline-block;line-height: 1.2em;}#sk-container-id-1 div.sk-label-container {text-align: center;}#sk-container-id-1 div.sk-container {/* jupyter's `normalize.less` sets `[hidden] { display: none; }` but bootstrap.min.css set `[hidden] { display: none !important; }` so we also need the `!important` here to be able to override the default hidden behavior on the sphinx rendered scikit-learn.org. See: https://github.com/scikit-learn/scikit-learn/issues/21755 */display: inline-block !important;position: relative;}#sk-container-id-1 div.sk-text-repr-fallback {display: none;}</style><div id=\"sk-container-id-1\" class=\"sk-top-container\"><div class=\"sk-text-repr-fallback\"><pre>RandomForestClassifier()</pre><b>In a Jupyter environment, please rerun this cell to show the HTML representation or trust the notebook. <br />On GitHub, the HTML representation is unable to render, please try loading this page with nbviewer.org.</b></div><div class=\"sk-container\" hidden><div class=\"sk-item\"><div class=\"sk-estimator sk-toggleable\"><input class=\"sk-toggleable__control sk-hidden--visually\" id=\"sk-estimator-id-1\" type=\"checkbox\" checked><label for=\"sk-estimator-id-1\" class=\"sk-toggleable__label sk-toggleable__label-arrow\">RandomForestClassifier</label><div class=\"sk-toggleable__content\"><pre>RandomForestClassifier()</pre></div></div></div></div></div>"
      ],
      "text/plain": [
       "RandomForestClassifier()"
      ]
     },
     "execution_count": 8,
     "metadata": {},
     "output_type": "execute_result"
    }
   ],
   "source": [
    "clf.fit(X_train,y_train)"
   ]
  },
  {
   "cell_type": "code",
   "execution_count": 9,
   "metadata": {},
   "outputs": [
    {
     "name": "stdout",
     "output_type": "stream",
     "text": [
      "Accuracy: 0.6184085322337641\n"
     ]
    }
   ],
   "source": [
    "y_pred=clf.predict(X_test)\n",
    "print(\"Accuracy:\",accuracy_score(y_test, y_pred))"
   ]
  },
  {
   "cell_type": "code",
   "execution_count": 10,
   "metadata": {},
   "outputs": [
    {
     "name": "stdout",
     "output_type": "stream",
     "text": [
      "[0.13488894 0.12234324 0.12187549 0.13010939 0.19453871 0.15567694\n",
      " 0.14056728]\n"
     ]
    }
   ],
   "source": [
    "print(clf.feature_importances_)"
   ]
  },
  {
   "cell_type": "code",
   "execution_count": 11,
   "metadata": {},
   "outputs": [
    {
     "name": "stdout",
     "output_type": "stream",
     "text": [
      "0.07699627309491713\n"
     ]
    }
   ],
   "source": [
    "print(y_pred.mean())"
   ]
  },
  {
   "cell_type": "code",
   "execution_count": 12,
   "metadata": {},
   "outputs": [
    {
     "data": {
      "text/html": [
       "<div>\n",
       "<style scoped>\n",
       "    .dataframe tbody tr th:only-of-type {\n",
       "        vertical-align: middle;\n",
       "    }\n",
       "\n",
       "    .dataframe tbody tr th {\n",
       "        vertical-align: top;\n",
       "    }\n",
       "\n",
       "    .dataframe thead th {\n",
       "        text-align: right;\n",
       "    }\n",
       "</style>\n",
       "<table border=\"1\" class=\"dataframe\">\n",
       "  <thead>\n",
       "    <tr style=\"text-align: right;\">\n",
       "      <th></th>\n",
       "      <th>open</th>\n",
       "      <th>high</th>\n",
       "      <th>low</th>\n",
       "      <th>close</th>\n",
       "      <th>volume</th>\n",
       "      <th>high-low</th>\n",
       "      <th>rsi</th>\n",
       "    </tr>\n",
       "  </thead>\n",
       "  <tbody>\n",
       "    <tr>\n",
       "      <th>13</th>\n",
       "      <td>0.4293</td>\n",
       "      <td>0.4295</td>\n",
       "      <td>0.4290</td>\n",
       "      <td>0.4292</td>\n",
       "      <td>178610.0</td>\n",
       "      <td>0.0005</td>\n",
       "      <td>30.030786</td>\n",
       "    </tr>\n",
       "    <tr>\n",
       "      <th>14</th>\n",
       "      <td>0.4291</td>\n",
       "      <td>0.4293</td>\n",
       "      <td>0.4288</td>\n",
       "      <td>0.4288</td>\n",
       "      <td>141418.2</td>\n",
       "      <td>0.0005</td>\n",
       "      <td>30.011198</td>\n",
       "    </tr>\n",
       "  </tbody>\n",
       "</table>\n",
       "</div>"
      ],
      "text/plain": [
       "      open    high     low   close    volume  high-low        rsi\n",
       "13  0.4293  0.4295  0.4290  0.4292  178610.0    0.0005  30.030786\n",
       "14  0.4291  0.4293  0.4288  0.4288  141418.2    0.0005  30.011198"
      ]
     },
     "execution_count": 12,
     "metadata": {},
     "output_type": "execute_result"
    }
   ],
   "source": [
    "import ccxt\n",
    "\n",
    "exchange = ccxt.binance()\n",
    "\n",
    "adausdt = exchange.fetch_ohlcv('ADA/USDT', timeframe='5m', limit=15)\n",
    "\n",
    "adausdt = pd.DataFrame(adausdt, columns=['time', 'open', 'high', 'low', 'close', 'volume'])\n",
    "\n",
    "adausdt['time'] = pd.to_datetime(adausdt['time'], unit='ms')\n",
    "\n",
    "adausdt.drop(['time'], axis=1, inplace=True)\n",
    "\n",
    "adausdt['high-low'] = adausdt['high'] - adausdt['low']\n",
    "\n",
    "adausdt['rsi'] = adausdt['close'].rolling(14).apply(lambda x: pd.Series(x).value_counts().index[0])\n",
    "adausdt['rsi'] = adausdt['rsi'].apply(lambda x: 100 - 100 / (1 + x))\n",
    "\n",
    "adausdt.dropna(inplace=True)\n",
    "\n",
    "\n",
    "adausdt"
   ]
  },
  {
   "cell_type": "code",
   "execution_count": 13,
   "metadata": {},
   "outputs": [
    {
     "name": "stdout",
     "output_type": "stream",
     "text": [
      "[-1 -1]\n"
     ]
    }
   ],
   "source": [
    "\n",
    "out = clf.predict(adausdt)\n",
    "\n",
    "print(out)"
   ]
  },
  {
   "cell_type": "code",
   "execution_count": 14,
   "metadata": {},
   "outputs": [
    {
     "data": {
      "text/plain": [
       "['buy_model']"
      ]
     },
     "execution_count": 14,
     "metadata": {},
     "output_type": "execute_result"
    }
   ],
   "source": [
    "import joblib\n",
    "joblib.dump(clf, 'buy_model')"
   ]
  }
 ],
 "metadata": {
  "kernelspec": {
   "display_name": "Python 3.8.10 64-bit",
   "language": "python",
   "name": "python3"
  },
  "language_info": {
   "codemirror_mode": {
    "name": "ipython",
    "version": 3
   },
   "file_extension": ".py",
   "mimetype": "text/x-python",
   "name": "python",
   "nbconvert_exporter": "python",
   "pygments_lexer": "ipython3",
   "version": "3.8.10"
  },
  "orig_nbformat": 4,
  "vscode": {
   "interpreter": {
    "hash": "aee8b7b246df8f9039afb4144a1f6fd8d2ca17a180786b69acc140d282b71a49"
   }
  }
 },
 "nbformat": 4,
 "nbformat_minor": 2
}
