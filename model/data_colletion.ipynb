{
 "cells": [
  {
   "cell_type": "code",
   "execution_count": 23,
   "metadata": {},
   "outputs": [],
   "source": [
    "import ccxt\n",
    "import pandas as pd\n",
    "import json,csv"
   ]
  },
  {
   "cell_type": "code",
   "execution_count": 24,
   "metadata": {},
   "outputs": [
    {
     "name": "stdout",
     "output_type": "stream",
     "text": [
      "symbol:ADA/USDT done!\n"
     ]
    }
   ],
   "source": [
    "binance = ccxt.binance({\n",
    "    'options': {\n",
    "        'defaultType': 'future',\n",
    "    },\n",
    "})\n",
    "data_list = ['ADA/USDT']\n",
    "for i in data_list:\n",
    "    start_time = '2020-01-01 00:00:00'\n",
    "    end_time = '2022-01-01 00:00:00'\n",
    "    ts_start_time = binance.parse8601(start_time)\n",
    "    ts_end_time = binance.parse8601(end_time)\n",
    "    data = []\n",
    "    count_time = ts_start_time\n",
    "    run_count=0\n",
    "    while count_time < ts_end_time:\n",
    "        temp_data = binance.fetch_ohlcv(i, timeframe='5m', since=count_time, limit=1000)\n",
    "        if len(data) == 0:\n",
    "            data = temp_data\n",
    "        else:\n",
    "            data = data + temp_data\n",
    "        count_time = data[-1][0]\n",
    "        run_count+=1\n",
    "    df = pd.DataFrame(data, columns=['time', 'open', 'high', 'low', 'close', 'volume'])\n",
    "    df['time'] = pd.to_datetime(df['time'], unit='ms')\n",
    "    df = df.set_index('time')\n",
    "    df.drop_duplicates(keep='first', inplace=True)\n",
    "    df.to_csv(f'data/{i.replace(\"/\",\"\")}.csv')\n",
    "    print(f'symbol:{i} done!')"
   ]
  }
 ],
 "metadata": {
  "kernelspec": {
   "display_name": "Python 3.8.10 64-bit",
   "language": "python",
   "name": "python3"
  },
  "language_info": {
   "codemirror_mode": {
    "name": "ipython",
    "version": 3
   },
   "file_extension": ".py",
   "mimetype": "text/x-python",
   "name": "python",
   "nbconvert_exporter": "python",
   "pygments_lexer": "ipython3",
   "version": "3.8.10"
  },
  "orig_nbformat": 4,
  "vscode": {
   "interpreter": {
    "hash": "aee8b7b246df8f9039afb4144a1f6fd8d2ca17a180786b69acc140d282b71a49"
   }
  }
 },
 "nbformat": 4,
 "nbformat_minor": 2
}
